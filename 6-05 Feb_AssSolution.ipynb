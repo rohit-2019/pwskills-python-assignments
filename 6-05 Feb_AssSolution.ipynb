{
 "cells": [
  {
   "cell_type": "markdown",
   "id": "f6700c69-1727-4682-9544-d69b3f54c7e7",
   "metadata": {},
   "source": [
    "# 05 Feb - Assignment Questions"
   ]
  },
  {
   "cell_type": "markdown",
   "id": "c30ca720-db9d-484f-a847-94473f50d45d",
   "metadata": {},
   "source": [
    "Ql. Explain Class and Object with respect to Object-Oriented Programming. Give a suitable example.\n",
    "\n",
    "Q2. Name the four pillars of OOPs.\n",
    "\n",
    "Q3. Explain why the __init__() function is used. Give a suitable example.\n",
    "\n",
    "Q4. Why self is used in OOPs?\n",
    "\n",
    "Q5. What is inheritance? Give an example for each type of inheritance."
   ]
  },
  {
   "cell_type": "markdown",
   "id": "7db26e73-a6d4-4f00-a56f-fc7e3bd8fc1a",
   "metadata": {},
   "source": [
    "# 05 Feb - Assignment Solutions"
   ]
  },
  {
   "cell_type": "markdown",
   "id": "435b94f0-a554-48e2-9252-c1300e8f9fe6",
   "metadata": {},
   "source": [
    "**Ql. Explain Class and Object with respect to Object-Oriented Programming. Give a suitable example.**"
   ]
  },
  {
   "cell_type": "markdown",
   "id": "e8116422-9ae0-43e4-9936-e16650a71fc8",
   "metadata": {},
   "source": [
    "A class can be understood as a template or a blueprint, which contains some values, known as data members, and some set of rules, known as behaviors or methods. The data and methods that are defined in the class are automatically taken when an object is created. The class is a template or blueprint for objects. One can make as many objects as they want to be based on a class.\n",
    "\n",
    "For example: If we define a blueprint of human beings then it can have attributes like Name, Age, Gender, Occupation and functionalities like Walk(), Eat(), and Sleep(). Any human being must have these properties(data) and functionalities(methods) associated with them."
   ]
  },
  {
   "cell_type": "markdown",
   "id": "9ab6632e-dbd6-4c02-bc8d-837c316c41db",
   "metadata": {},
   "source": [
    "A class contains the properties and behaviour for a set of objects, many objects can be formed using a class.\n",
    "A class is a set of traits and features that define an object. It is a blueprint which must be implemented by each of its objects.\n",
    "\n",
    "For example: one dog has black color, another dog may have grey color, or white, etc. There are different varieties of dogs that means different varieties of objects according to the dog class. \n",
    "The behaviours are the same like barking, wagging their tail, eating, sleeping, etc.\n",
    "Properties and behaviour of these objects can be the same but their values would be different."
   ]
  },
  {
   "cell_type": "markdown",
   "id": "0ec8f076-3b47-43a8-80bd-b8726331fbdd",
   "metadata": {},
   "source": [
    "Class: Human   Object: Man, Woman\n",
    "Class: Food    Object: Pizza, Burger, Samosa\n",
    "Class: Fruit   Object: Apple, Banana, Mango, Guava"
   ]
  },
  {
   "cell_type": "markdown",
   "id": "3b15bdc3-c2e1-4072-ad99-1c6906e9739e",
   "metadata": {},
   "source": [
    "**Q2. Name the four pillars of OOPs.**"
   ]
  },
  {
   "cell_type": "markdown",
   "id": "2b938d7f-0270-4050-96ad-c208f7b35bf5",
   "metadata": {},
   "source": [
    "These four pillars are Inheritance, Polymorphism, Encapsulation and Abstraction"
   ]
  },
  {
   "cell_type": "markdown",
   "id": "a9a0fdfc-3e75-42d1-9ed5-c7639b0aa012",
   "metadata": {},
   "source": [
    "**Q3. Explain why the __init__() function is used. Give a suitable example.**"
   ]
  },
  {
   "cell_type": "markdown",
   "id": "97a69d2c-d188-4371-849b-25a569dbb884",
   "metadata": {},
   "source": [
    "The __init__ function is called every time an object is created from a class. The __init__ method lets the class initialize the object's attributes and serves no other purpose. It is only used within classes."
   ]
  },
  {
   "cell_type": "code",
   "execution_count": 31,
   "id": "7c474e02-a8a2-4e57-83ee-814b036aec96",
   "metadata": {},
   "outputs": [
    {
     "name": "stdout",
     "output_type": "stream",
     "text": [
      "Hello, My name is A\n",
      "Hello, My name is B\n",
      "Hello, My name is C\n"
     ]
    }
   ],
   "source": [
    "class Person:\n",
    "    def __init__(self, name):\n",
    "        self.name = name\n",
    " \n",
    "    def say_hi(self):\n",
    "        print('Hello, My name is', self.name)\n",
    "\n",
    "p1 = Person('A')\n",
    "p2 = Person('B')\n",
    "p3 = Person('C')\n",
    " \n",
    "p1.say_hi()\n",
    "p2.say_hi()\n",
    "p3.say_hi()"
   ]
  },
  {
   "cell_type": "markdown",
   "id": "048fb0ce-492e-4c05-a2e9-7d9a4414db8c",
   "metadata": {},
   "source": [
    "**Q4. Why self is used in OOPs?**"
   ]
  },
  {
   "cell_type": "markdown",
   "id": "2101de5d-5cdb-4330-905e-e83a39f4060f",
   "metadata": {},
   "source": [
    "The self variable is used to represent the instance of the class which is often used in object-oriented programming. It works as a reference to the object.\n",
    "By using the self, we can access the attributes and methods of the class in python."
   ]
  },
  {
   "cell_type": "markdown",
   "id": "57356528-c637-4f0c-bdeb-a618f7d86999",
   "metadata": {},
   "source": [
    "**Q5. What is inheritance? Give an example for each type of inheritance.**"
   ]
  },
  {
   "cell_type": "markdown",
   "id": "b1e00e03-ffd8-4a62-ad0e-998aa171e77a",
   "metadata": {},
   "source": [
    "Inheritance allows us to define a class that inherits all the methods and properties from another class. Parent class is the class being inherited from, also called base class. Child class is the class that inherits from another class, also called derived class."
   ]
  },
  {
   "cell_type": "code",
   "execution_count": 33,
   "id": "34005bd3-2337-463a-bd56-ec5c694fe618",
   "metadata": {},
   "outputs": [],
   "source": [
    "class Animal:\n",
    "    def speak(self):  \n",
    "        print(\"Animal Speaking\")  "
   ]
  },
  {
   "cell_type": "code",
   "execution_count": 36,
   "id": "d16fcb82-3bdf-4f17-8e31-e1b14448b9ac",
   "metadata": {},
   "outputs": [],
   "source": [
    "class Dog(Animal):\n",
    "    def bark(self): \n",
    "        print(\"Dog barking\")  "
   ]
  },
  {
   "cell_type": "code",
   "execution_count": 37,
   "id": "9d3d1316-0d0e-4ccd-91ff-ff1cb84e1c0d",
   "metadata": {},
   "outputs": [
    {
     "name": "stdout",
     "output_type": "stream",
     "text": [
      "Dog barking\n",
      "Animal Speaking\n",
      "Eating bread\n"
     ]
    }
   ],
   "source": [
    "class DogChild(Dog):\n",
    "    def eat(self): \n",
    "        print(\"Eating bread\")  \n",
    "\n",
    "d = DogChild()\n",
    "d.bark()\n",
    "d.speak()\n",
    "d.eat()"
   ]
  },
  {
   "cell_type": "code",
   "execution_count": null,
   "id": "712f563e-7914-4a01-bd15-99f6a1c07bf9",
   "metadata": {},
   "outputs": [],
   "source": []
  }
 ],
 "metadata": {
  "kernelspec": {
   "display_name": "Python 3 (ipykernel)",
   "language": "python",
   "name": "python3"
  },
  "language_info": {
   "codemirror_mode": {
    "name": "ipython",
    "version": 3
   },
   "file_extension": ".py",
   "mimetype": "text/x-python",
   "name": "python",
   "nbconvert_exporter": "python",
   "pygments_lexer": "ipython3",
   "version": "3.10.8"
  }
 },
 "nbformat": 4,
 "nbformat_minor": 5
}
