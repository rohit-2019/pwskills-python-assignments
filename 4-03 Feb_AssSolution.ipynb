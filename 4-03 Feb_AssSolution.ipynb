{
 "cells": [
  {
   "cell_type": "markdown",
   "id": "f6700c69-1727-4682-9544-d69b3f54c7e7",
   "metadata": {},
   "source": [
    "# 03 Feb - Assignment Questions"
   ]
  },
  {
   "cell_type": "markdown",
   "id": "c30ca720-db9d-484f-a847-94473f50d45d",
   "metadata": {},
   "source": [
    "Ql. Which keyword is used to create a function? Create a function to return a list of odd numbers in the range of 1to 25.\n",
    "\n",
    "Q2. Why *args and **kwargs is used in some functions? Create a function each for *args and **kwargs to demonstrate their use.\n",
    "\n",
    "Q3. What is an iterator in python? Name the method used to initialise the iterator object and the method used for iteration. Use these methods to print the first five elements of the given list [2, 4, 6, 8,10,12,14, 16, 18,20].\n",
    "\n",
    "Q4. What is a generator function in python? Why yield keyword is used? Give an example of a generator function.\n",
    "\n",
    "Q5. Create a generator function for prime numbers less than 1000. Use the next() method to print the first 20 prime numbers."
   ]
  },
  {
   "cell_type": "markdown",
   "id": "7db26e73-a6d4-4f00-a56f-fc7e3bd8fc1a",
   "metadata": {},
   "source": [
    "# 03 Feb - Assignment Solutions"
   ]
  },
  {
   "cell_type": "markdown",
   "id": "435b94f0-a554-48e2-9252-c1300e8f9fe6",
   "metadata": {},
   "source": [
    "**Ql. Which keyword is used to create a function? Create a function to return a list of odd numbers in the range of 1 to 25.**"
   ]
  },
  {
   "cell_type": "markdown",
   "id": "e8116422-9ae0-43e4-9936-e16650a71fc8",
   "metadata": {},
   "source": [
    "def keyword is used to create function."
   ]
  },
  {
   "cell_type": "code",
   "execution_count": 4,
   "id": "0b192423-3b24-412c-bdd5-570a16aa7a67",
   "metadata": {},
   "outputs": [
    {
     "name": "stdout",
     "output_type": "stream",
     "text": [
      "Result List with Odd numbers: [1, 3, 5, 7, 9, 11, 13, 15, 17, 19, 21, 23]\n"
     ]
    }
   ],
   "source": [
    "def odd(num1,num2):\n",
    "    list = [i for i in range(num1,num2) if i%2!=0]\n",
    "    return list\n",
    "\n",
    "print(\"Result List with Odd numbers:\", odd(1,25))"
   ]
  },
  {
   "cell_type": "markdown",
   "id": "3b15bdc3-c2e1-4072-ad99-1c6906e9739e",
   "metadata": {},
   "source": [
    "**Q2.** Why *args and **kwargs is used in some functions? Create a function each for *args and **kwargs to demonstrate their use."
   ]
  },
  {
   "cell_type": "markdown",
   "id": "2b938d7f-0270-4050-96ad-c208f7b35bf5",
   "metadata": {},
   "source": [
    "*args specifies the number of non-keyworded arguments that can be passed and the operations that can be performed on the function in Python whereas **kwargs is a variable number of keyworded arguments that can be passed to a function that can perform dictionary operations."
   ]
  },
  {
   "cell_type": "code",
   "execution_count": 6,
   "id": "bb48a6c8-7960-4efc-ae5a-f67f034bb233",
   "metadata": {},
   "outputs": [
    {
     "name": "stdout",
     "output_type": "stream",
     "text": [
      "Hello\n",
      "Welcome\n",
      "to\n",
      "PW Skills\n"
     ]
    }
   ],
   "source": [
    "def myFun(*argv):\n",
    "    for arg in argv:\n",
    "        print(arg)\n",
    "        \n",
    "myFun('Hello', 'Welcome', 'to', 'PW Skills')"
   ]
  },
  {
   "cell_type": "code",
   "execution_count": 7,
   "id": "fb2dbd20-29dd-445c-b7dd-3432081c8b44",
   "metadata": {},
   "outputs": [
    {
     "name": "stdout",
     "output_type": "stream",
     "text": [
      "first == Python\n",
      "mid == for\n",
      "last == Data Science\n"
     ]
    }
   ],
   "source": [
    "def myFun(**kwargs):\n",
    "    for key, value in kwargs.items():\n",
    "        print(\"%s == %s\" % (key, value))\n",
    "        \n",
    "myFun(first='Python', mid='for', last='Data Science')"
   ]
  },
  {
   "cell_type": "markdown",
   "id": "a9a0fdfc-3e75-42d1-9ed5-c7639b0aa012",
   "metadata": {},
   "source": [
    "**Q3. What is an iterator in python? Name the method used to initialise the iterator object and the method used for iteration. Use these methods to print the first five elements of the given list [2, 4, 6, 8,10,12,14, 16, 18,20]**"
   ]
  },
  {
   "cell_type": "markdown",
   "id": "97a69d2c-d188-4371-849b-25a569dbb884",
   "metadata": {},
   "source": [
    "Iterable is an object which can be looped over or iterated over with the help of a for loop. Objects like lists, tuples, sets, dictionaries, strings, etc. are called iterables."
   ]
  },
  {
   "cell_type": "markdown",
   "id": "6810d732-a438-4f79-b74c-ca55fb9fbfb6",
   "metadata": {},
   "source": [
    "Iterator object must implement two special methods, __iter__() and __next__(), collectively called the iterator protocol."
   ]
  },
  {
   "cell_type": "code",
   "execution_count": 28,
   "id": "7c474e02-a8a2-4e57-83ee-814b036aec96",
   "metadata": {},
   "outputs": [
    {
     "name": "stdout",
     "output_type": "stream",
     "text": [
      "2\n",
      "4\n",
      "6\n",
      "8\n",
      "10\n"
     ]
    }
   ],
   "source": [
    "myList = [2, 4, 6, 8,10,12,14, 16, 18,20]\n",
    "myIterator = iter(myList)\n",
    "\n",
    "counter=0\n",
    "while(counter<5):\n",
    "    counter = counter+1\n",
    "    print(next(myIterator))"
   ]
  },
  {
   "cell_type": "markdown",
   "id": "048fb0ce-492e-4c05-a2e9-7d9a4414db8c",
   "metadata": {},
   "source": [
    "**Q4. What is a generator function in python? Why yield keyword is used? Give an example of a generator function.**"
   ]
  },
  {
   "cell_type": "markdown",
   "id": "2101de5d-5cdb-4330-905e-e83a39f4060f",
   "metadata": {},
   "source": [
    "In Python, a generator is a function that returns an iterator that produces a sequence of values when iterated over. Generators are useful when we want to produce a large sequence of values, but we don't want to store all of them in memory at once.\n",
    "\n",
    "Yield keyword is used to produce a value from the generator."
   ]
  },
  {
   "cell_type": "code",
   "execution_count": 18,
   "id": "b9dd03f2-b303-4eab-a912-ac56c26d74c7",
   "metadata": {},
   "outputs": [
    {
     "name": "stdout",
     "output_type": "stream",
     "text": [
      "0\n",
      "1\n",
      "2\n"
     ]
    }
   ],
   "source": [
    "def my_generator(n):\n",
    "    value = 0\n",
    "    while value < n:\n",
    "        yield value\n",
    "        value += 1\n",
    "        \n",
    "for value in my_generator(3):\n",
    "    print(value)"
   ]
  },
  {
   "cell_type": "markdown",
   "id": "57356528-c637-4f0c-bdeb-a618f7d86999",
   "metadata": {},
   "source": [
    "**Q5. Create a generator function for prime numbers less than 1000. Use the next() method to print the first 20 prime numbers.**"
   ]
  },
  {
   "cell_type": "code",
   "execution_count": 29,
   "id": "6fc4d21d-b7e8-4767-b9c4-4f44673683fc",
   "metadata": {},
   "outputs": [
    {
     "name": "stdout",
     "output_type": "stream",
     "text": [
      "2\n",
      "3\n",
      "5\n",
      "7\n",
      "11\n",
      "13\n",
      "17\n",
      "19\n",
      "23\n",
      "29\n",
      "31\n",
      "37\n",
      "41\n",
      "43\n",
      "47\n",
      "53\n",
      "59\n",
      "61\n",
      "67\n",
      "71\n"
     ]
    }
   ],
   "source": [
    "def prime_generator(limit):\n",
    "    D = {}            \n",
    "    q = 2\n",
    "\n",
    "    while q <= limit:\n",
    "        if q not in D:\n",
    "            yield q\n",
    "            D[q * q] = [q]\n",
    "        else:\n",
    "            for p in D[q]:\n",
    "                D.setdefault(p + q, []).append(p)\n",
    "            del D[q]\n",
    "        q += 1\n",
    "\n",
    "prime_list = [i for i in prime_generator(100)]\n",
    "\n",
    "type(prime_list)\n",
    "myIterator = iter(prime_list)\n",
    "\n",
    "counter=0\n",
    "while(counter<20):\n",
    "    counter = counter+1\n",
    "    print(next(myIterator))\n",
    "  "
   ]
  },
  {
   "cell_type": "code",
   "execution_count": null,
   "id": "87ccd731-9a26-43b1-b6ec-e669a55d3ff8",
   "metadata": {},
   "outputs": [],
   "source": []
  }
 ],
 "metadata": {
  "kernelspec": {
   "display_name": "Python 3 (ipykernel)",
   "language": "python",
   "name": "python3"
  },
  "language_info": {
   "codemirror_mode": {
    "name": "ipython",
    "version": 3
   },
   "file_extension": ".py",
   "mimetype": "text/x-python",
   "name": "python",
   "nbconvert_exporter": "python",
   "pygments_lexer": "ipython3",
   "version": "3.10.8"
  }
 },
 "nbformat": 4,
 "nbformat_minor": 5
}
