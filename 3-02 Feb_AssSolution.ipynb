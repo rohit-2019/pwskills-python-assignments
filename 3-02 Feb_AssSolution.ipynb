{
 "cells": [
  {
   "cell_type": "markdown",
   "id": "f6700c69-1727-4682-9544-d69b3f54c7e7",
   "metadata": {},
   "source": [
    "2 Feb - Assignments Questions"
   ]
  },
  {
   "cell_type": "markdown",
   "id": "c30ca720-db9d-484f-a847-94473f50d45d",
   "metadata": {},
   "source": [
    "Ql. What are the characteristics of the tuples? Is tuple immutable?\n",
    "\n",
    "Q2. What are the two tuple methods in python? Give an example of each method. Give a reason why tuples have only two in-built methods as compared to Lists.\n",
    "\n",
    "Q3. Which collection datatypes in python do not allow duplicate items? Write a code using a set to remove duplicates from the given list.\n",
    "\n",
    "List=[1,1,1,2,1,3,1,4,2,1,2,2,2,3,2,4,3,1,3,2,3,3,3,4,4,1,4,2,4,3,4,4]\n",
    "\n",
    "Q4. Explain the difference between the union() and update() methods for a set. Give an example of each method.\n",
    "\n",
    "Q5. What is a dictionary? Give an example. Also, state whether a dictionary is ordered or unordered.\n",
    "\n",
    "Q6. Can we create a nested dictionary? If so, please give an example by creating a simple one-level nested dictionary.\n",
    "\n",
    "Q7. Using setdefault() method, create key named topics in the given dictionary and also add the value of the key as this list [ Python’, ‘Machine Learning’, ‘Deep Learning]\n",
    "\n",
    "dict] = {language’: Python’, ‘course: ‘Data Science Masters'}\n",
    "\n",
    "Q8. What are the three view objects in dictionaries? Use the three in-built methods in python to display these three view objects for the given dictionary.\n",
    "\n",
    "dict] = {'Sport’: ‘Cricket’, Teams\": ['India’, ‘Australia’, England’, ‘South Africa’, 'Sri Lanka’, ‘New Zealand']}"
   ]
  },
  {
   "cell_type": "markdown",
   "id": "7db26e73-a6d4-4f00-a56f-fc7e3bd8fc1a",
   "metadata": {},
   "source": [
    "2 Feb - Assignments Solutions"
   ]
  },
  {
   "cell_type": "markdown",
   "id": "435b94f0-a554-48e2-9252-c1300e8f9fe6",
   "metadata": {},
   "source": [
    "Ql. What are the characteristics of the tuples? Is tuple immutable?"
   ]
  },
  {
   "cell_type": "markdown",
   "id": "43b3fd0b-949d-4655-bb37-de4c1fcd5713",
   "metadata": {},
   "source": [
    "Characteristics of the Tuples are:\n",
    "1. Tuples are indexed.\n",
    "2. Tuples are ordered.\n",
    "3. Tuples are immutable.\n",
    "4. Tuples can contain duplicate items.\n",
    "\n",
    "Yes, Tuples are immutable"
   ]
  },
  {
   "cell_type": "markdown",
   "id": "3b15bdc3-c2e1-4072-ad99-1c6906e9739e",
   "metadata": {},
   "source": [
    "Q2. What are the two tuple methods in python? Give an example of each method. Give a reason why tuples have only two in-built methods as compared to Lists."
   ]
  },
  {
   "cell_type": "code",
   "execution_count": null,
   "id": "3c11a1c1-52c7-4e4b-b76b-cf5931b7769b",
   "metadata": {},
   "outputs": [],
   "source": []
  },
  {
   "cell_type": "markdown",
   "id": "a9a0fdfc-3e75-42d1-9ed5-c7639b0aa012",
   "metadata": {},
   "source": [
    "Q3. Which collection datatypes in python do not allow duplicate items? Write a code using a set to remove\n",
    "duplicates from the given list.\n",
    "\n",
    "List=[1,1,1,2,1,3,1,4,2,1,2,2,2,3,2,4,3,1,3,2,3,3,3,4,4,1,4,2,4,3,4,4]"
   ]
  },
  {
   "cell_type": "code",
   "execution_count": null,
   "id": "a70c0e70-3157-43a4-b226-a4335e35826f",
   "metadata": {},
   "outputs": [],
   "source": []
  },
  {
   "cell_type": "markdown",
   "id": "048fb0ce-492e-4c05-a2e9-7d9a4414db8c",
   "metadata": {},
   "source": [
    "Q4. Explain the difference between the union() and update() methods for a set. Give an example of each method."
   ]
  },
  {
   "cell_type": "code",
   "execution_count": null,
   "id": "4e7b0780-d8e0-4313-a84b-ab3a6651561d",
   "metadata": {},
   "outputs": [],
   "source": []
  },
  {
   "cell_type": "markdown",
   "id": "57356528-c637-4f0c-bdeb-a618f7d86999",
   "metadata": {},
   "source": [
    "Q5. What is a dictionary? Give an example. Also, state whether a dictionary is ordered or unordered."
   ]
  },
  {
   "cell_type": "code",
   "execution_count": null,
   "id": "a21a150d-6d55-4ee0-aab0-1c237782ae6d",
   "metadata": {},
   "outputs": [],
   "source": []
  },
  {
   "cell_type": "markdown",
   "id": "a91b7db6-11a5-471a-8b60-7893c41a66b7",
   "metadata": {},
   "source": [
    "Q6. Can we create a nested dictionary? If so, please give an example by creating a simple one-level nested dictionary."
   ]
  },
  {
   "cell_type": "code",
   "execution_count": null,
   "id": "1801626c-27e4-44a5-b5ce-1ebe0b96a2f0",
   "metadata": {},
   "outputs": [],
   "source": []
  },
  {
   "cell_type": "markdown",
   "id": "b8620789-9005-4f7f-add5-764f639e01a1",
   "metadata": {},
   "source": [
    "Q7. Using setdefault() method, create key named topics in the given dictionary and also add the value of\n",
    "the key as this list [ Python’, ‘Machine Learning’, ‘Deep Learning]\n",
    "\n",
    "dict] = {language’: Python’, ‘course: ‘Data Science Masters'}"
   ]
  },
  {
   "cell_type": "code",
   "execution_count": null,
   "id": "acedbdf3-8fe4-463f-b391-38366ec8519f",
   "metadata": {},
   "outputs": [],
   "source": []
  },
  {
   "cell_type": "markdown",
   "id": "d77bc871-6b7b-4172-8e52-fa87eddf62eb",
   "metadata": {},
   "source": [
    "Q8. What are the three view objects in dictionaries? Use the three in-built methods in python to display\n",
    "these three view objects for the given dictionary.\n",
    "\n",
    "dict] = {'Sport’: ‘Cricket’, Teams\": ['India’, ‘Australia’, England’, ‘South Africa’, 'Sri Lanka’, ‘New Zealand']}"
   ]
  },
  {
   "cell_type": "code",
   "execution_count": null,
   "id": "d5e535b0-6065-4b01-8d1d-e2a0937089be",
   "metadata": {},
   "outputs": [],
   "source": []
  },
  {
   "cell_type": "markdown",
   "id": "f243b20c-cc94-44d7-931d-e24a651c6e97",
   "metadata": {},
   "source": []
  },
  {
   "cell_type": "markdown",
   "id": "5d6034e0-4621-4bb4-a3f1-01d706685744",
   "metadata": {},
   "source": []
  },
  {
   "cell_type": "markdown",
   "id": "bb7d2971-f053-471a-84df-a5b8bbbe09da",
   "metadata": {},
   "source": []
  },
  {
   "cell_type": "markdown",
   "id": "175c25cd-e9c2-4b87-81ac-bc503bbf6a55",
   "metadata": {},
   "source": []
  }
 ],
 "metadata": {
  "kernelspec": {
   "display_name": "Python 3 (ipykernel)",
   "language": "python",
   "name": "python3"
  },
  "language_info": {
   "codemirror_mode": {
    "name": "ipython",
    "version": 3
   },
   "file_extension": ".py",
   "mimetype": "text/x-python",
   "name": "python",
   "nbconvert_exporter": "python",
   "pygments_lexer": "ipython3",
   "version": "3.10.8"
  }
 },
 "nbformat": 4,
 "nbformat_minor": 5
}
