{
 "cells": [
  {
   "cell_type": "markdown",
   "id": "f6700c69-1727-4682-9544-d69b3f54c7e7",
   "metadata": {},
   "source": [
    "# 02 Feb - Assignment Questions"
   ]
  },
  {
   "cell_type": "markdown",
   "id": "c30ca720-db9d-484f-a847-94473f50d45d",
   "metadata": {},
   "source": [
    "Ql. What are the characteristics of the tuples? Is tuple immutable?\n",
    "\n",
    "Q2. What are the two tuple methods in python? Give an example of each method. Give a reason why tuples have only two in-built methods as compared to Lists.\n",
    "\n",
    "Q3. Which collection datatypes in python do not allow duplicate items? Write a code using a set to remove duplicates from the given list.\n",
    "\n",
    "List=[1,1,1,2,1,3,1,4,2,1,2,2,2,3,2,4,3,1,3,2,3,3,3,4,4,1,4,2,4,3,4,4]\n",
    "\n",
    "Q4. Explain the difference between the union() and update() methods for a set. Give an example of each method.\n",
    "\n",
    "Q5. What is a dictionary? Give an example. Also, state whether a dictionary is ordered or unordered.\n",
    "\n",
    "Q6. Can we create a nested dictionary? If so, please give an example by creating a simple one-level nested dictionary.\n",
    "\n",
    "Q7. Using setdefault() method, create key named topics in the given dictionary and also add the value of the key as this list ['Python', 'Machine Learning', 'Deep Learning']\n",
    "\n",
    "dict1 = {language’: Python’, ‘course: ‘Data Science Masters'}\n",
    "\n",
    "Q8. What are the three view objects in dictionaries? Use the three in-built methods in python to display these three view objects for the given dictionary.\n",
    "\n",
    "dict1 = {'Sport': 'Cricket', 'Teams': ['India', 'Australia',' England', 'South Africa', 'Sri Lanka', 'New Zealand']}"
   ]
  },
  {
   "cell_type": "markdown",
   "id": "7db26e73-a6d4-4f00-a56f-fc7e3bd8fc1a",
   "metadata": {},
   "source": [
    "# 02 Feb - Assignment Solutions"
   ]
  },
  {
   "cell_type": "markdown",
   "id": "435b94f0-a554-48e2-9252-c1300e8f9fe6",
   "metadata": {},
   "source": [
    "**Ql. What are the characteristics of the tuples? Is tuple immutable?**"
   ]
  },
  {
   "cell_type": "markdown",
   "id": "43b3fd0b-949d-4655-bb37-de4c1fcd5713",
   "metadata": {},
   "source": [
    "Characteristics of the Tuples are:\n",
    "1. Tuples are indexed.\n",
    "2. Tuples are ordered.\n",
    "3. Tuples are immutable.\n",
    "4. Tuples can contain duplicate items.\n",
    "\n",
    "Yes, Tuples are immutable"
   ]
  },
  {
   "cell_type": "markdown",
   "id": "3b15bdc3-c2e1-4072-ad99-1c6906e9739e",
   "metadata": {},
   "source": [
    "**Q2. What are the two tuple methods in python? Give an example of each method. Give a reason why tuples have only two in-built methods as compared to Lists.**"
   ]
  },
  {
   "cell_type": "markdown",
   "id": "2b938d7f-0270-4050-96ad-c208f7b35bf5",
   "metadata": {},
   "source": [
    "max() - It returns the maximum value in the tuple. You can use min operation successfully only if the tuple is homogenous. "
   ]
  },
  {
   "cell_type": "code",
   "execution_count": 2,
   "id": "bb48a6c8-7960-4efc-ae5a-f67f034bb233",
   "metadata": {},
   "outputs": [
    {
     "name": "stdout",
     "output_type": "stream",
     "text": [
      "3\n"
     ]
    }
   ],
   "source": [
    "print(max((1, 2, 3)))"
   ]
  },
  {
   "cell_type": "markdown",
   "id": "f40b698e-9cad-4943-b031-7eb48a6a2a3a",
   "metadata": {},
   "source": [
    "slice - It is used to print a subset of the tuple. You have to specify starting position and ending position for the slicing operation. "
   ]
  },
  {
   "cell_type": "code",
   "execution_count": 6,
   "id": "fb2dbd20-29dd-445c-b7dd-3432081c8b44",
   "metadata": {},
   "outputs": [
    {
     "name": "stdout",
     "output_type": "stream",
     "text": [
      "(1, 2, 3, 4, 5, 6, 7, 8, 9)\n",
      "(3, 4, 5, 6, 7, 8, 9)\n",
      "(3, 4, 5, 6, 7)\n",
      "(1, 2, 3, 4, 5, 6, 7, 8, 9)\n",
      "(9, 8, 7, 6, 5, 4, 3, 2, 1)\n"
     ]
    }
   ],
   "source": [
    "myTuple = (1,2,3,4,5,6,7,8,9)\n",
    "\n",
    "print(myTuple[:9])  # prints from beginning to end index\n",
    "print(myTuple[2:])  # prints from start index to end of tuple\n",
    "print(myTuple[2:7]) # prints from start index to end index\n",
    "print(myTuple[:])   # prints from beginning to end of tuple\n",
    "print(myTuple[::-1])   # prints tuple in the reverse order"
   ]
  },
  {
   "cell_type": "markdown",
   "id": "ac0b95c2-d9ca-4271-bc4f-05bb002be758",
   "metadata": {},
   "source": [
    "index( ) - Find in the tuple and returns the index of the given value where it’s available\n",
    "count( ) - Returns the frequency of occurrence of a specified value"
   ]
  },
  {
   "cell_type": "markdown",
   "id": "a9a0fdfc-3e75-42d1-9ed5-c7639b0aa012",
   "metadata": {},
   "source": [
    "**Q3. Which collection datatypes in python do not allow duplicate items? Write a code using a set to remove\n",
    "duplicates from the given list.**\n",
    "\n",
    "List=[1,1,1,2,1,3,1,4,2,1,2,2,2,3,2,4,3,1,3,2,3,3,3,4,4,1,4,2,4,3,4,4]"
   ]
  },
  {
   "cell_type": "markdown",
   "id": "97a69d2c-d188-4371-849b-25a569dbb884",
   "metadata": {},
   "source": [
    "Sets is the collection datatypes in python do not allow duplicate items."
   ]
  },
  {
   "cell_type": "code",
   "execution_count": 10,
   "id": "7c474e02-a8a2-4e57-83ee-814b036aec96",
   "metadata": {},
   "outputs": [
    {
     "name": "stdout",
     "output_type": "stream",
     "text": [
      "{1, 2, 3, 4}\n"
     ]
    }
   ],
   "source": [
    "List=[1,1,1,2,1,3,1,4,2,1,2,2,2,3,2,4,3,1,3,2,3,3,3,4,4,1,4,2,4,3,4,4]\n",
    "List = set(List)\n",
    "print(List)"
   ]
  },
  {
   "cell_type": "markdown",
   "id": "048fb0ce-492e-4c05-a2e9-7d9a4414db8c",
   "metadata": {},
   "source": [
    "**Q4. Explain the difference between the union() and update() methods for a set. Give an example of each method.**"
   ]
  },
  {
   "cell_type": "markdown",
   "id": "2101de5d-5cdb-4330-905e-e83a39f4060f",
   "metadata": {},
   "source": [
    "union() - will changes the set and returns a new set after appending the value. "
   ]
  },
  {
   "cell_type": "code",
   "execution_count": 12,
   "id": "b9dd03f2-b303-4eab-a912-ac56c26d74c7",
   "metadata": {},
   "outputs": [
    {
     "name": "stdout",
     "output_type": "stream",
     "text": [
      "{1, 2, 3}\n",
      "{1, 2, 3, 4}\n"
     ]
    }
   ],
   "source": [
    "mySet = {1, 2, 3}\n",
    "print(mySet)\n",
    "newSet = mySet | {4}\n",
    "print(newSet)"
   ]
  },
  {
   "cell_type": "markdown",
   "id": "c979d25a-26f1-4300-bee6-f1c16d444c62",
   "metadata": {},
   "source": [
    "update() - didn't return anything, returns None. It did not return mySet to the caller and the Python interpreter did not echo a value."
   ]
  },
  {
   "cell_type": "code",
   "execution_count": 15,
   "id": "ef6fe8e1-03cf-45c2-aac9-2870822325aa",
   "metadata": {},
   "outputs": [
    {
     "name": "stdout",
     "output_type": "stream",
     "text": [
      "{1, 2, 3}\n",
      "None\n"
     ]
    }
   ],
   "source": [
    "mySet = {1, 2, 3}\n",
    "print(mySet)\n",
    "newSet = mySet.update({4})\n",
    "print(newSet)"
   ]
  },
  {
   "cell_type": "markdown",
   "id": "57356528-c637-4f0c-bdeb-a618f7d86999",
   "metadata": {},
   "source": [
    "**Q5. What is a dictionary? Give an example. Also, state whether a dictionary is ordered or unordered.**"
   ]
  },
  {
   "cell_type": "markdown",
   "id": "f563d40b-55af-49d4-af35-ae599c29d1d1",
   "metadata": {},
   "source": [
    "Dictionary consists of a collection of key-value pairs. Each key in the dictionary is unique. Each unique key in the dictionary is associated to its value. Thus, Dictionary holds key : value pairs. \n",
    "Keys are unique within a dictionary while values may not be. The values of a dictionary can be of any type, but the keys must be of an immutable data type such as strings, numbers, or tuples.\n",
    "\n",
    "A dictionary is an unordered."
   ]
  },
  {
   "cell_type": "code",
   "execution_count": 16,
   "id": "f25d2c6d-143c-4823-a611-299cc722426b",
   "metadata": {},
   "outputs": [
    {
     "name": "stdout",
     "output_type": "stream",
     "text": [
      "{1: 'PW', 2: 'Skills', 3: 'Lab'}\n"
     ]
    }
   ],
   "source": [
    "myDictionary = {1: 'PW', 2: 'Skills', 3: 'Lab'}\n",
    "print(myDictionary)"
   ]
  },
  {
   "cell_type": "markdown",
   "id": "a91b7db6-11a5-471a-8b60-7893c41a66b7",
   "metadata": {},
   "source": [
    "**Q6. Can we create a nested dictionary? If so, please give an example by creating a simple one-level nested dictionary.**"
   ]
  },
  {
   "cell_type": "markdown",
   "id": "e5f693af-bc09-4192-a6db-20e120137d5b",
   "metadata": {},
   "source": [
    "Yes, We can create a nested dictionay."
   ]
  },
  {
   "cell_type": "code",
   "execution_count": 20,
   "id": "d694fd08-7360-4c2e-96cd-f637294499c3",
   "metadata": {},
   "outputs": [
    {
     "name": "stdout",
     "output_type": "stream",
     "text": [
      "{1: 'PW', 2: 'Skills', 3: 'Courses', 4: {'A': 'Python', 'B': 'Machine Learning', 'C': 'Deep Learning'}}\n"
     ]
    }
   ],
   "source": [
    "myDictionary = {1: 'PW', 2: 'Skills', 3: 'Courses', 4: {'A': 'Python', 'B': 'Machine Learning', 'C': 'Deep Learning'}}\n",
    "print(myDictionary)"
   ]
  },
  {
   "cell_type": "markdown",
   "id": "b8620789-9005-4f7f-add5-764f639e01a1",
   "metadata": {},
   "source": [
    "**Q7. Using setdefault() method, create key named topics in the given dictionary and also add the value of\n",
    "the key as this list ['Python', 'Machine Learning', 'Deep Learning']**\n",
    "\n",
    "**dict1 = {language’: Python’, ‘course: ‘Data Science Masters'}**"
   ]
  },
  {
   "cell_type": "code",
   "execution_count": 21,
   "id": "acedbdf3-8fe4-463f-b391-38366ec8519f",
   "metadata": {},
   "outputs": [
    {
     "name": "stdout",
     "output_type": "stream",
     "text": [
      "{'a': 97, 'b': 98, 'c': 99, 'd': 100, 'topics': ['Python', 'Machine Learning', 'Deep Learning']}\n"
     ]
    }
   ],
   "source": [
    "#when key not existing in dictionary\n",
    "myDictionary = {'a': 97, 'b': 98, 'c': 99, 'd': 100}\n",
    "myDictionary.setdefault('topics', ['Python', 'Machine Learning', 'Deep Learning'])\n",
    "print(myDictionary)"
   ]
  },
  {
   "cell_type": "code",
   "execution_count": 23,
   "id": "79db4290-d3f3-4dac-b8a1-a7dd02c69d4e",
   "metadata": {},
   "outputs": [
    {
     "name": "stdout",
     "output_type": "stream",
     "text": [
      "{'a': 97, 'b': 98, 'c': 99, 'd': 100, 'topics': ['Python', 'ML', 'DL']}\n"
     ]
    }
   ],
   "source": [
    "#when key already existing in dictionary\n",
    "myDictionary = {'a': 97, 'b': 98, 'c': 99, 'd': 100, 'topics': ['Python', 'ML', 'DL']}\n",
    "myDictionary.setdefault('topics', ['Python', 'Machine Learning', 'Deep Learning'])\n",
    "print(myDictionary)"
   ]
  },
  {
   "cell_type": "markdown",
   "id": "d77bc871-6b7b-4172-8e52-fa87eddf62eb",
   "metadata": {},
   "source": [
    "**Q8. What are the three view objects in dictionaries? Use the three in-built methods in python to display these three view objects for the given dictionary.**\n",
    "\n",
    "**dict1 = {'Sport': 'Cricket', 'Teams': ['India', 'Australia',' England', 'South Africa', 'Sri Lanka', 'New Zealand']}**"
   ]
  },
  {
   "cell_type": "markdown",
   "id": "601b7984-b20b-4e0e-867b-286fab0ff6d4",
   "metadata": {},
   "source": [
    "The three view objects of dictionaries are keys, values and items. They provide a non-constant view of the dictionary’s entries.\n",
    "Keys holds all the keys of the dictionary.\n",
    "Values objects holds all the values.\n",
    "Items holds the key-value pairs."
   ]
  },
  {
   "cell_type": "code",
   "execution_count": 24,
   "id": "0ff94e15-86c7-4661-ad51-09259930e7b1",
   "metadata": {},
   "outputs": [
    {
     "name": "stdout",
     "output_type": "stream",
     "text": [
      "{'Sport': 'Cricket', 'Teams': ['India', 'Australia', ' England', 'South Africa', 'Sri Lanka', 'New Zealand']}\n"
     ]
    }
   ],
   "source": [
    "dict1 = {'Sport': 'Cricket', 'Teams': ['India', 'Australia',' England', 'South Africa', 'Sri Lanka', 'New Zealand']}\n",
    "print(dict1)"
   ]
  },
  {
   "cell_type": "code",
   "execution_count": 25,
   "id": "df06b8c6-90d6-428a-b46b-da96d733a580",
   "metadata": {},
   "outputs": [
    {
     "name": "stdout",
     "output_type": "stream",
     "text": [
      "dict_keys(['Sport', 'Teams'])\n",
      "<class 'dict_keys'>\n"
     ]
    }
   ],
   "source": [
    "k = dict1.keys()\n",
    "print(k)\n",
    "print(type(k))"
   ]
  },
  {
   "cell_type": "code",
   "execution_count": 26,
   "id": "b422f36c-0635-42f9-988d-ca4b52df2892",
   "metadata": {},
   "outputs": [
    {
     "name": "stdout",
     "output_type": "stream",
     "text": [
      "dict_values(['Cricket', ['India', 'Australia', ' England', 'South Africa', 'Sri Lanka', 'New Zealand']])\n",
      "<class 'dict_values'>\n"
     ]
    }
   ],
   "source": [
    "v = dict1.values()\n",
    "print(v)\n",
    "print(type(v))"
   ]
  },
  {
   "cell_type": "code",
   "execution_count": 27,
   "id": "12753a42-50fa-4258-a7f2-3e0b6f0c66c3",
   "metadata": {},
   "outputs": [
    {
     "name": "stdout",
     "output_type": "stream",
     "text": [
      "dict_items([('Sport', 'Cricket'), ('Teams', ['India', 'Australia', ' England', 'South Africa', 'Sri Lanka', 'New Zealand'])])\n",
      "<class 'dict_items'>\n"
     ]
    }
   ],
   "source": [
    "i = dict1.items()\n",
    "print(i)\n",
    "print(type(i))"
   ]
  },
  {
   "cell_type": "code",
   "execution_count": null,
   "id": "6fc4d21d-b7e8-4767-b9c4-4f44673683fc",
   "metadata": {},
   "outputs": [],
   "source": []
  }
 ],
 "metadata": {
  "kernelspec": {
   "display_name": "Python 3 (ipykernel)",
   "language": "python",
   "name": "python3"
  },
  "language_info": {
   "codemirror_mode": {
    "name": "ipython",
    "version": 3
   },
   "file_extension": ".py",
   "mimetype": "text/x-python",
   "name": "python",
   "nbconvert_exporter": "python",
   "pygments_lexer": "ipython3",
   "version": "3.10.8"
  }
 },
 "nbformat": 4,
 "nbformat_minor": 5
}
